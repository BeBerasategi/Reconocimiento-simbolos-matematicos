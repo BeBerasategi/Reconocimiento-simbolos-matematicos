{
 "cells": [
  {
   "cell_type": "markdown",
   "id": "018ad67f-7ca1-4d2f-a43a-9ff6e7b7d094",
   "metadata": {},
   "source": [
    "# Precisión y sensibilidad\n",
    "\n",
    "A pesar de que se ha utilizado la precisión como medida principal del rendimiento de los modelos entrenados, la información que da puede ser un poco engañosa en el caso de bases de datos desequilibradas. En este notebook se intentará calcular la precisión y sensibilidad de los modelos de CNN entrenados en la base de datos original y en la aumentada, para ver si se puede hacer un análisis más en profundidad.\n",
    "\n",
    "Un sistema con precisión y sensibilidad alta devuelve resultados precisos, y la mayoría de resultados son realmente positivos.\n",
    "\n",
    "Un sistema con precisión baja y sensibilidad alta devuelve muchos resultados, pero la mayoría de las etiquetas predichas son incorrectas, al comparar con las eqtiquetas de entrenamiento. Un sistema con precisión alta y sensibilidad baja have lo contrario, devolviendo pocos resultados pero etiquetados correctamente generalmente.\n",
    "\n",
    "https://scikit-learn.org/stable/auto_examples/model_selection/plot_precision_recall.html"
   ]
  },
  {
   "cell_type": "code",
   "execution_count": 2,
   "id": "47233d8e-2b03-4359-8524-ec146d962337",
   "metadata": {},
   "outputs": [],
   "source": [
    "import numpy as np\n",
    "import pandas as pd\n",
    "import sklearn\n",
    "import tensorflow as tf\n",
    "from tensorflow import keras\n",
    "import matplotlib.pyplot as plt\n",
    "import sys\n",
    "\n",
    "sys.path.append('/home/jovyan/work/databases/HASY/')\n",
    "from hasy_tools_updated import *"
   ]
  },
  {
   "cell_type": "code",
   "execution_count": 15,
   "id": "9c313ee1-dbed-445b-a939-b9dc99c6cb19",
   "metadata": {},
   "outputs": [],
   "source": [
    "import sklearn.metrics as metrics"
   ]
  },
  {
   "cell_type": "code",
   "execution_count": 24,
   "id": "908c6b3d-0595-4267-8795-d372013b459f",
   "metadata": {},
   "outputs": [],
   "source": [
    "X_train, y_train, symbol_id2index_train, index2symbol_id_train = load_database(f'/home/jovyan/work/databases/HASY/benat-data/train.csv')\n",
    "X_test, y_test, symbol_id2index_test, index2symbol_id_test = load_database(f'/home/jovyan/work/databases/HASY/benat-data/test.csv')"
   ]
  },
  {
   "cell_type": "code",
   "execution_count": 25,
   "id": "b0277441-826a-4af3-a897-089f86d1756f",
   "metadata": {},
   "outputs": [
    {
     "name": "stdout",
     "output_type": "stream",
     "text": [
      "Data scaled\n",
      "\n"
     ]
    }
   ],
   "source": [
    "y_train_id = np.array([index2symbol_id_train[element] for element in y_train])\n",
    "y_test_id = np.array([index2symbol_id_test[element] for element in y_test])\n",
    "\n",
    "# Go back to indexes, but use the SAME indexing SYSTEM for all:\n",
    "y_train = np.array([symbol_id2index_test[element] for element in y_train_id])\n",
    "y_test = np.array([symbol_id2index_test[element] for element in y_test_id])    \n",
    "\n",
    "# Data scaling\n",
    "X_train, X_test = X_train / 255., X_test/ 255.\n",
    "y_train, y_test = y_train.astype(int), y_test.astype(int)\n",
    "print(\"Data scaled\", end='\\n\\n')\n",
    "\n",
    "# Reshape the data to 2D:\n",
    "X_train = X_train.reshape(X_train.shape[0],32,32)[..., np.newaxis]\n",
    "X_test = X_test.reshape(X_test.shape[0],32,32)[..., np.newaxis]"
   ]
  },
  {
   "cell_type": "markdown",
   "id": "25a5372d-4cb9-4825-9b42-d19636342e54",
   "metadata": {},
   "source": [
    "## Sistema entrenado en la base de datos original"
   ]
  },
  {
   "cell_type": "code",
   "execution_count": 26,
   "id": "761521aa-6007-4be8-a10b-cab7caf535e7",
   "metadata": {},
   "outputs": [],
   "source": [
    "# path_original = '/home/jovyan/work/models/04_CNN/00_MNIST_model/Test_performance/models/best_model.h5'\n",
    "model_original_data = keras.models.load_model('04_CNN/00_MNIST_model/Test_performance/models/best_model.h5')"
   ]
  },
  {
   "cell_type": "code",
   "execution_count": 27,
   "id": "6386c84b-a3d7-41ef-b770-000bc138005d",
   "metadata": {},
   "outputs": [
    {
     "name": "stdout",
     "output_type": "stream",
     "text": [
      "1052/1052 [==============================] - 19s 18ms/step\n"
     ]
    }
   ],
   "source": [
    "y_proba = model_original_data.predict(X_test, verbose=1)\n",
    "y_pred = np.argmax(y_proba, axis=-1)\n",
    "y_pred_id = np.array([index2symbol_id_test[element] for element in y_pred])"
   ]
  },
  {
   "cell_type": "code",
   "execution_count": 73,
   "id": "7b540730-8ddd-47f1-81ec-5b936c5f5571",
   "metadata": {},
   "outputs": [
    {
     "name": "stdout",
     "output_type": "stream",
     "text": [
      "TOP1: 80.8036 %\n",
      "TOP3: 95.1288 %\n",
      "TOP5: 97.0012 %\n",
      "MER : 89.5147 %\n"
     ]
    }
   ],
   "source": [
    "accuracy = metrics.accuracy_score(y_test, y_pred)\n",
    "print(f\"TOP1: {accuracy*100:.4f} %\")\n",
    "print(f\"TOP3: {metrics.top_k_accuracy_score(y_test, y_proba, k=3)*100:.4f} %\")\n",
    "print(f\"TOP5: {metrics.top_k_accuracy_score(y_test, y_proba, k=5)*100:.4f} %\")\n",
    "print(f\"MER : {MER(y_test_id, y_pred_id)*100:.4f} %\")\n"
   ]
  },
  {
   "cell_type": "code",
   "execution_count": 39,
   "id": "4bf116e9-3cb5-47b0-9c8c-ab64951b45bb",
   "metadata": {},
   "outputs": [
    {
     "name": "stdout",
     "output_type": "stream",
     "text": [
      "Precisión media: 72.2774 %\n",
      "Precisión media pesada: 79.1704 %\n"
     ]
    }
   ],
   "source": [
    "# Precisión\n",
    "\n",
    "mean_precision = metrics.precision_score(y_test, y_pred, average='macro', zero_division=0)\n",
    "weighted_mean_precision = metrics.precision_score(y_test, y_pred, average='weighted', zero_division=0)\n",
    "print(f\"Precisión media: {mean_precision*100:.4f} %\")\n",
    "print(f\"Precisión media pesada: {weighted_mean_precision*100:.4f} %\")"
   ]
  },
  {
   "cell_type": "code",
   "execution_count": 42,
   "id": "e4ab0fba-3386-44da-a47f-0fcc95bae37c",
   "metadata": {},
   "outputs": [
    {
     "name": "stdout",
     "output_type": "stream",
     "text": [
      "Sensibilidad media: 67.1164 %\n",
      "Sensibilidad media pesada: 80.8036 %\n"
     ]
    }
   ],
   "source": [
    "# Sensibilidad\n",
    "\n",
    "mean_recall = metrics.recall_score(y_test, y_pred, average='macro', zero_division='warn')\n",
    "weighted_mean_recall = metrics.recall_score(y_test, y_pred, average='weighted', zero_division='warn')\n",
    "print(f\"Sensibilidad media: {mean_recall*100:.4f} %\")\n",
    "print(f\"Sensibilidad media pesada: {weighted_mean_recall*100:.4f} %\")"
   ]
  },
  {
   "cell_type": "code",
   "execution_count": 82,
   "id": "f2078759-4126-40a0-8934-f2c6ef242863",
   "metadata": {},
   "outputs": [
    {
     "name": "stdout",
     "output_type": "stream",
     "text": [
      "F1 media: 67.9726 %\n",
      "F1 media pesada: 78.9267 %\n"
     ]
    }
   ],
   "source": [
    "# Valor F1\n",
    "\n",
    "mean_F1 = metrics.f1_score(y_test, y_pred, average='macro', zero_division='warn')\n",
    "weighted_mean_F1 = metrics.f1_score(y_test, y_pred, average='weighted', zero_division='warn')\n",
    "print(f\"F1 media: {mean_F1*100:.4f} %\")\n",
    "print(f\"F1 media pesada: {weighted_mean_F1*100:.4f} %\")"
   ]
  },
  {
   "cell_type": "markdown",
   "id": "e2dec95f-43a9-4c51-aa72-d407d90c67a7",
   "metadata": {},
   "source": [
    "## Sistema entrenado en la base de datos aumentada\n",
    "\n",
    "Con 1000 muestras por clase."
   ]
  },
  {
   "cell_type": "code",
   "execution_count": 52,
   "id": "c96582af-80c0-41ba-b7db-2b4caa78115e",
   "metadata": {},
   "outputs": [],
   "source": [
    "# path_aug = '/home/jovyan/work/models/05_CNN_aug/aug_1000/models_aug/best_model.h5'\n",
    "model_augmented_data = keras.models.load_model('05_CNN_aug/aug_1000/models_aug/best_model.h5')"
   ]
  },
  {
   "cell_type": "code",
   "execution_count": 53,
   "id": "a6bdd8bd-2e57-471d-95d1-34a97e4a06c9",
   "metadata": {},
   "outputs": [
    {
     "name": "stdout",
     "output_type": "stream",
     "text": [
      "1052/1052 [==============================] - 19s 18ms/step\n"
     ]
    }
   ],
   "source": [
    "y_proba_aug = model_augmented_data.predict(X_test, verbose=1)\n",
    "y_pred_aug = np.argmax(y_proba_aug, axis=-1)\n",
    "y_pred_id_aug = np.array([index2symbol_id_test[element] for element in y_pred_aug])"
   ]
  },
  {
   "cell_type": "code",
   "execution_count": 60,
   "id": "dbf7d1be-5b46-4a04-ba17-8c0e4bb6bbc1",
   "metadata": {},
   "outputs": [
    {
     "name": "stdout",
     "output_type": "stream",
     "text": [
      "TOP1: 79.5078 %\n",
      "TOP3: 94.8881 %\n",
      "TOP5: 96.9745 %\n",
      "MER : 89.5147 %\n"
     ]
    }
   ],
   "source": [
    "accuracy_aug = metrics.accuracy_score(y_test, y_pred_aug)\n",
    "print(f\"TOP1: {accuracy_aug*100:.4f} %\")\n",
    "print(f\"TOP3: {metrics.top_k_accuracy_score(y_test_aug, y_proba_aug, k=3)*100:.4f} %\")\n",
    "print(f\"TOP5: {metrics.top_k_accuracy_score(y_test_aug, y_proba_aug, k=5)*100:.4f} %\")\n",
    "print(f\"MER : {MER(y_test_id, y_pred_id)*100:.4f} %\")"
   ]
  },
  {
   "cell_type": "code",
   "execution_count": 55,
   "id": "2f9839d8-0c85-47bf-b16a-a278ffb81dac",
   "metadata": {},
   "outputs": [
    {
     "name": "stdout",
     "output_type": "stream",
     "text": [
      "Precisión media: 68.6724 %\n",
      "Precisión media pesada: 79.6440 %\n"
     ]
    }
   ],
   "source": [
    "# Precisión\n",
    "\n",
    "mean_precision_aug = metrics.precision_score(y_test, y_pred_aug, average='macro', zero_division=0)\n",
    "weighted_mean_precision_aug = metrics.precision_score(y_test, y_pred_aug, average='weighted', zero_division=0)\n",
    "print(f\"Precisión media: {mean_precision_aug*100:.4f} %\")\n",
    "print(f\"Precisión media pesada: {weighted_mean_precision_aug*100:.4f} %\")"
   ]
  },
  {
   "cell_type": "code",
   "execution_count": 56,
   "id": "08c2e52c-defe-4263-9bc1-4775b7e32e20",
   "metadata": {},
   "outputs": [
    {
     "name": "stdout",
     "output_type": "stream",
     "text": [
      "Sensibilidad media: 70.8287 %\n",
      "Sensibilidad media pesada: 79.5078 %\n"
     ]
    }
   ],
   "source": [
    "# Sensibilidad\n",
    "\n",
    "mean_recall_aug = metrics.recall_score(y_test, y_pred_aug, average='macro', zero_division='warn')\n",
    "weighted_mean_recall_aug = metrics.recall_score(y_test, y_pred_aug, average='weighted', zero_division='warn')\n",
    "print(f\"Sensibilidad media: {mean_recall_aug*100:.4f} %\")\n",
    "print(f\"Sensibilidad media pesada: {weighted_mean_recall_aug*100:.4f} %\")"
   ]
  },
  {
   "cell_type": "code",
   "execution_count": 83,
   "id": "3d1c569f-8c40-42d0-94b7-f80c798ef958",
   "metadata": {},
   "outputs": [
    {
     "name": "stdout",
     "output_type": "stream",
     "text": [
      "F1 media: 68.7730 %\n",
      "F1 media pesada: 78.8242 %\n"
     ]
    }
   ],
   "source": [
    "# Valor F1\n",
    "\n",
    "mean_F1_aug = metrics.f1_score(y_test, y_pred_aug, average='macro', zero_division='warn')\n",
    "weighted_mean_F1_aug = metrics.f1_score(y_test, y_pred_aug, average='weighted', zero_division='warn')\n",
    "print(f\"F1 media: {mean_F1_aug*100:.4f} %\")\n",
    "print(f\"F1 media pesada: {weighted_mean_F1_aug*100:.4f} %\")"
   ]
  },
  {
   "cell_type": "markdown",
   "id": "cd70c363-bed0-4e24-b23f-1e77d43007ae",
   "metadata": {},
   "source": [
    "## Resumen de las puntuaciones sin pesar"
   ]
  },
  {
   "cell_type": "code",
   "execution_count": 84,
   "id": "b3ec2b96-eec8-4a87-af60-92ee0eb3fabc",
   "metadata": {},
   "outputs": [
    {
     "data": {
      "text/html": [
       "<div>\n",
       "<style scoped>\n",
       "    .dataframe tbody tr th:only-of-type {\n",
       "        vertical-align: middle;\n",
       "    }\n",
       "\n",
       "    .dataframe tbody tr th {\n",
       "        vertical-align: top;\n",
       "    }\n",
       "\n",
       "    .dataframe thead th {\n",
       "        text-align: right;\n",
       "    }\n",
       "</style>\n",
       "<table border=\"1\" class=\"dataframe\">\n",
       "  <thead>\n",
       "    <tr style=\"text-align: right;\">\n",
       "      <th></th>\n",
       "      <th>Exactitud</th>\n",
       "      <th>Precisión</th>\n",
       "      <th>Sensibilidad</th>\n",
       "      <th>Valor F1</th>\n",
       "    </tr>\n",
       "  </thead>\n",
       "  <tbody>\n",
       "    <tr>\n",
       "      <th>Modelo desequilibrado</th>\n",
       "      <td>80.8</td>\n",
       "      <td>72.3</td>\n",
       "      <td>67.1</td>\n",
       "      <td>68.0</td>\n",
       "    </tr>\n",
       "    <tr>\n",
       "      <th>Modelo equilibrado</th>\n",
       "      <td>79.5</td>\n",
       "      <td>68.7</td>\n",
       "      <td>70.8</td>\n",
       "      <td>68.8</td>\n",
       "    </tr>\n",
       "  </tbody>\n",
       "</table>\n",
       "</div>"
      ],
      "text/plain": [
       "                       Exactitud  Precisión  Sensibilidad  Valor F1\n",
       "Modelo desequilibrado       80.8       72.3          67.1      68.0\n",
       "Modelo equilibrado          79.5       68.7          70.8      68.8"
      ]
     },
     "execution_count": 84,
     "metadata": {},
     "output_type": "execute_result"
    }
   ],
   "source": [
    "import pandas as pd\n",
    "\n",
    "resumen_dict = dict()\n",
    "resumen_dict['Modelo desequilibrado'] = {'Exactitud': round(accuracy*100,1), 'Precisión':round(mean_precision*100,1), 'Sensibilidad':round(mean_recall*100,1), 'Valor F1':round(mean_F1*100,1)}\n",
    "resumen_dict['Modelo equilibrado'] = {'Exactitud':round(accuracy_aug*100,1), 'Precisión':round(mean_precision_aug*100,1), 'Sensibilidad':round(mean_recall_aug*100,1), 'Valor F1':round(mean_F1_aug*100,1)}\n",
    "\n",
    "tabla_datos = pd.DataFrame(resumen_dict).transpose()\n",
    "tabla_datos"
   ]
  },
  {
   "cell_type": "code",
   "execution_count": 85,
   "id": "fe53f057-e888-4e84-b852-e2fb301ff7f4",
   "metadata": {},
   "outputs": [
    {
     "name": "stdout",
     "output_type": "stream",
     "text": [
      "\\begin{tabular}{lrrrr}\n",
      "\\toprule\n",
      "{} &  Exactitud &  Precisión &  Sensibilidad &  Valor F1 \\\\\n",
      "\\midrule\n",
      "Modelo desequilibrado &       80.8 &       72.3 &          67.1 &      68.0 \\\\\n",
      "Modelo equilibrado    &       79.5 &       68.7 &          70.8 &      68.8 \\\\\n",
      "\\bottomrule\n",
      "\\end{tabular}\n",
      "\n"
     ]
    },
    {
     "name": "stderr",
     "output_type": "stream",
     "text": [
      "/tmp/ipykernel_5257/1845644842.py:1: FutureWarning: In future versions `DataFrame.to_latex` is expected to utilise the base implementation of `Styler.to_latex` for formatting and rendering. The arguments signature may therefore change. It is recommended instead to use `DataFrame.style.to_latex` which also contains additional functionality.\n",
      "  print(tabla_datos.to_latex())\n"
     ]
    }
   ],
   "source": [
    "print(tabla_datos.to_latex())"
   ]
  }
 ],
 "metadata": {
  "kernelspec": {
   "display_name": "Python 3 (ipykernel)",
   "language": "python",
   "name": "python3"
  },
  "language_info": {
   "codemirror_mode": {
    "name": "ipython",
    "version": 3
   },
   "file_extension": ".py",
   "mimetype": "text/x-python",
   "name": "python",
   "nbconvert_exporter": "python",
   "pygments_lexer": "ipython3",
   "version": "3.8.10"
  }
 },
 "nbformat": 4,
 "nbformat_minor": 5
}
