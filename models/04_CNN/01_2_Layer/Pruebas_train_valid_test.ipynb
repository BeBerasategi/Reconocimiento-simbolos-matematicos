{
 "cells": [
  {
   "cell_type": "markdown",
   "id": "38777cec-6060-45f7-8739-f82de2db9eea",
   "metadata": {},
   "source": [
    "# Pruebas para hacer CV utilizando conjuntos de entrenamiento, validación y test\n",
    "\n",
    "Consideraré 5 particiones training-validación-test en tamaños:\n",
    "- Train: 70\n",
    "- Validación: 10\n",
    "- Test: 20\n",
    "El número óptimo de epochs se determina al detectar que en 3 epochs sucesivas no mejora\n",
    "el rendimiento sobre el conjunto de validación.\n",
    "\n",
    "Se tomaría como número de epochs el que da rendimiento más alto.\n",
    "Después se entrena con todo el training (incluido el corpus de validación) usando ese número de epochs y se evalúa el rendimiento sobre el conjunto de test.\n",
    "- Train: 80\n",
    "- Test: 20\n",
    "\n",
    "Se hace lo mismo con cada una de las 5 particiones.\n",
    "\n",
    "**CAMBIO**: *Hemos decidido que para agilizar el proceso, en los modelos que no nos interesen particularmente, será suficiente hacer únicamente el primer paso en 70-10-20, y quedarnos con la puntuación sobre el conjunto de test, aunque el modelo esté entrenado solo al 70%*."
   ]
  },
  {
   "cell_type": "code",
   "execution_count": 1,
   "id": "3b7b18f5-073f-4e8a-94a6-c29b13b2544f",
   "metadata": {},
   "outputs": [
    {
     "name": "stderr",
     "output_type": "stream",
     "text": [
      "2024-03-26 19:20:45.293032: I tensorflow/core/platform/cpu_feature_guard.cc:182] This TensorFlow binary is optimized with oneAPI Deep Neural Network Library (oneDNN) to use the following CPU instructions in performance-critical operations:  SSE3 SSE4.1 SSE4.2\n",
      "To enable them in other operations, rebuild TensorFlow with the appropriate compiler flags.\n",
      "2024-03-26 19:20:45.549908: E tensorflow/tsl/lib/monitoring/collection_registry.cc:81] Cannot register 2 metrics with the same name: /tensorflow/core/bfc_allocator_delay\n"
     ]
    }
   ],
   "source": [
    "import sys, os, time, functools\n",
    "sys.path.append('/home/jovyan/work/databases/HASY/')\n",
    "os.makedirs(\"./models_cv/\", exist_ok=True)\n",
    "os.makedirs(\"./plots_cv/\", exist_ok=True)\n",
    "\n",
    "from hasy_tools_updated import *\n",
    "\n",
    "import numpy as np\n",
    "import pandas as pd\n",
    "import sklearn\n",
    "import tensorflow as tf\n",
    "from tensorflow import keras\n",
    "import matplotlib.pyplot as plt\n",
    "\n",
    "import sklearn.metrics as metrics\n",
    "\n",
    "start_time = time.time()"
   ]
  },
  {
   "cell_type": "code",
   "execution_count": 18,
   "id": "079191e6-2f74-4147-9dbb-4e44551c90f5",
   "metadata": {},
   "outputs": [
    {
     "name": "stdout",
     "output_type": "stream",
     "text": [
      "Fold 1 loaded----------------------------------------\n",
      "Converted y indexes to symbol IDs\n",
      "Converted y symbol IDs to same index system\n",
      "Data scaled\n",
      "\n"
     ]
    }
   ],
   "source": [
    "fold = 1\n",
    "\n",
    "X_train, y_train, symbol_id2index_train, index2symbol_id_train = load_database(f'/home/jovyan/work/databases/HASY/benat-data/cv/fold-{fold}/train.csv')\n",
    "X_test, y_test, symbol_id2index_test, index2symbol_id_test = load_database(f'/home/jovyan/work/databases/HASY/benat-data/cv/fold-{fold}/test.csv')\n",
    "print(f\"Fold {fold} loaded----------------------------------------\")\n",
    "\n",
    "# First, get the ID of each label:\n",
    "y_train_id = np.array([index2symbol_id_train[element] for element in y_train])\n",
    "y_test_id = np.array([index2symbol_id_test[element] for element in y_test])\n",
    "print(\"Converted y indexes to symbol IDs\")\n",
    "# Go back to indexes, but use the SAME indexing SYSTEM for all:\n",
    "y_train = np.array([symbol_id2index_train[element] for element in y_train_id])\n",
    "y_test = np.array([symbol_id2index_train[element] for element in y_test_id])    \n",
    "print(\"Converted y symbol IDs to same index system\")\n",
    "\n",
    "# Data scaling\n",
    "X_train, X_test = X_train / 255., X_test/ 255.\n",
    "y_train, y_test = y_train.astype(int), y_test.astype(int)\n",
    "print(\"Data scaled\", end='\\n\\n')\n",
    "\n",
    "# Reshape the data to 2D:\n",
    "X_train = X_train.reshape(X_train.shape[0],32,32)[..., np.newaxis]\n",
    "X_test = X_test.reshape(X_test.shape[0],32,32)[..., np.newaxis]\n",
    "# Another option: tf.image.resize(images, [32,32])"
   ]
  },
  {
   "cell_type": "code",
   "execution_count": 7,
   "id": "fc52503a-69fb-4224-a63d-fbf4d2700229",
   "metadata": {},
   "outputs": [
    {
     "name": "stdout",
     "output_type": "stream",
     "text": [
      "94209.5\n",
      "13458.5\n",
      "107668\n"
     ]
    }
   ],
   "source": [
    "# Split the training data in train0 and validation0\n",
    "\n",
    "# Split in 70-10, this is:\n",
    "print(len(y_train)*70/80) # 94209.5\n",
    "print(len(y_train)*10/80) # 13458.5\n",
    "print(len(y_train)) # 107668"
   ]
  },
  {
   "cell_type": "code",
   "execution_count": 19,
   "id": "2daf8ab0-7be8-4627-8cbd-7f3e6d2b9611",
   "metadata": {},
   "outputs": [],
   "source": [
    "index_split = int(len(y_train)*70/80)\n",
    "\n",
    "X_train0 = X_train[:index_split]\n",
    "X_val0 = X_train[index_split:]\n",
    "\n",
    "y_train0 = y_train[:index_split]\n",
    "y_val0 = y_train[index_split:]"
   ]
  },
  {
   "cell_type": "code",
   "execution_count": 39,
   "id": "11cc0ac6-1433-4939-ad24-7c2893eb9c98",
   "metadata": {},
   "outputs": [
    {
     "name": "stdout",
     "output_type": "stream",
     "text": [
      "Model: \"sequential\"\n",
      "_________________________________________________________________\n",
      " Layer (type)                Output Shape              Param #   \n",
      "=================================================================\n",
      " conv2d (Conv2D)             (107668, 32, 32, 32)      320       \n",
      "                                                                 \n",
      " max_pooling2d (MaxPooling2D  (107668, 16, 16, 32)     0         \n",
      " )                                                               \n",
      "                                                                 \n",
      " flatten (Flatten)           (107668, 8192)            0         \n",
      "                                                                 \n",
      " dense (Dense)               (107668, 369)             3023217   \n",
      "                                                                 \n",
      "=================================================================\n",
      "Total params: 3,023,537\n",
      "Trainable params: 3,023,537\n",
      "Non-trainable params: 0\n",
      "_________________________________________________________________\n",
      "None\n"
     ]
    }
   ],
   "source": [
    "# Reset keras session:\n",
    "keras.backend.clear_session()\n",
    "tf.random.set_seed(42)\n",
    "np.random.seed(42)\n",
    "\n",
    "# MODEL: 2-LAYER\n",
    "model = keras.models.Sequential([\n",
    "    keras.layers.Conv2D(32, kernel_size=3, padding=\"same\", activation=\"relu\"),\n",
    "    keras.layers.MaxPool2D(pool_size=(2, 2), strides=(2,2)), # Default values.\n",
    "    keras.layers.Flatten(),\n",
    "    keras.layers.Dense(369, activation=\"softmax\")\n",
    "])\n",
    "\n",
    "# Model summary:\n",
    "model.build(X_train.shape) \n",
    "print(model.summary())"
   ]
  },
  {
   "cell_type": "code",
   "execution_count": 40,
   "id": "6e8781f0-bb86-440e-9264-24c1aa52fe3e",
   "metadata": {},
   "outputs": [],
   "source": [
    "model.compile(loss=\"sparse_categorical_crossentropy\", optimizer=\"nadam\", metrics=[\"accuracy\"])    \n",
    "\n",
    "# Callbacks\n",
    "early_stopping_cb = keras.callbacks.EarlyStopping(patience=3,  monitor=\"val_accuracy\", mode = \"max\", restore_best_weights=False) #IMPORTANT: Patience = 3.\n",
    "checkpoint = tf.keras.callbacks.ModelCheckpoint(f\"./models_cv/best_model_fold_{fold}.h5\", \n",
    "                monitor=\"val_accuracy\", mode=\"max\", save_weights_only = False, save_best_only=True, verbose=1)\n"
   ]
  },
  {
   "cell_type": "code",
   "execution_count": 41,
   "id": "d802d21e-9b5b-4237-9b78-98e95ae3b5eb",
   "metadata": {},
   "outputs": [
    {
     "name": "stdout",
     "output_type": "stream",
     "text": [
      "Epoch 1/20\n",
      "2945/2945 [==============================] - 198s 67ms/step - loss: 1.6013 - accuracy: 0.6397 - val_loss: 1.1331 - val_accuracy: 0.7201\n",
      "Epoch 2/20\n",
      "2945/2945 [==============================] - 204s 69ms/step - loss: 0.7487 - accuracy: 0.7940 - val_loss: 1.0644 - val_accuracy: 0.7281\n",
      "Epoch 3/20\n",
      "2945/2945 [==============================] - 200s 68ms/step - loss: 0.4487 - accuracy: 0.8665 - val_loss: 1.1429 - val_accuracy: 0.7351\n",
      "Epoch 4/20\n",
      "2945/2945 [==============================] - 204s 69ms/step - loss: 0.2634 - accuracy: 0.9169 - val_loss: 1.2619 - val_accuracy: 0.7296\n",
      "Epoch 5/20\n",
      "2945/2945 [==============================] - 204s 69ms/step - loss: 0.1621 - accuracy: 0.9468 - val_loss: 1.4381 - val_accuracy: 0.7249\n",
      "Epoch 6/20\n",
      "2945/2945 [==============================] - 218s 74ms/step - loss: 0.1098 - accuracy: 0.9630 - val_loss: 1.6038 - val_accuracy: 0.7295\n",
      "The model has been trained.\n"
     ]
    }
   ],
   "source": [
    "history = model.fit(X_train0, y_train0, epochs=20, callbacks=[early_stopping_cb, checkpoint],\n",
    "                    verbose=2, \n",
    "                    validation_data=(X_val0, y_val0)) # Validation data is provided!\n",
    "\n",
    "print(\"The model has been trained.\")"
   ]
  },
  {
   "cell_type": "code",
   "execution_count": 42,
   "id": "85cdf0d9-096d-48dd-9684-7891d14f0d23",
   "metadata": {},
   "outputs": [
    {
     "data": {
      "image/png": "[encoded data removed]",
      "text/plain": [
       "<Figure size 800x500 with 1 Axes>"
      ]
     },
     "metadata": {},
     "output_type": "display_data"
    }
   ],
   "source": [
    "#Save history\n",
    "df = pd.DataFrame(history.history)\n",
    "df.to_csv(f'./models_cv/history_fold_{fold}_pruebas2.csv')\n",
    "\n",
    "# Plot\n",
    "df.plot(figsize=(8, 5))\n",
    "plt.grid(True)\n",
    "#plt.gca().set_ylim(0, 1)\n",
    "plt.savefig(f\"./plots_cv/learning_curves_plot_fold_{fold}_pruebas2.png\", dpi=200)"
   ]
  },
  {
   "cell_type": "code",
   "execution_count": 43,
   "id": "9f351c04-4299-489c-8fed-463e99708fd5",
   "metadata": {},
   "outputs": [
    {
     "name": "stdout",
     "output_type": "stream",
     "text": [
      "2\n"
     ]
    }
   ],
   "source": [
    "# Best epoch number:\n",
    "n_epochs_best = np.argmax(history.history['val_accuracy'])\n",
    "print(n_epochs_best)"
   ]
  },
  {
   "cell_type": "code",
   "execution_count": 44,
   "id": "1bf29871-a5b6-492f-9c28-421574fd7805",
   "metadata": {},
   "outputs": [
    {
     "name": "stdout",
     "output_type": "stream",
     "text": [
      "842/842 [==============================] - 6s 7ms/step\n"
     ]
    }
   ],
   "source": [
    "y_proba = model.predict(X_test)\n",
    "y_pred = np.argmax(y_proba, axis=-1)"
   ]
  },
  {
   "cell_type": "code",
   "execution_count": 45,
   "id": "7aee2e8e-3db5-448d-a1b6-a2fd734d8643",
   "metadata": {},
   "outputs": [
    {
     "data": {
      "text/plain": [
       "0.733895534586522"
      ]
     },
     "execution_count": 45,
     "metadata": {},
     "output_type": "execute_result"
    }
   ],
   "source": [
    "metrics.accuracy_score(y_test, y_pred)"
   ]
  }
 ],
 "metadata": {
  "kernelspec": {
   "display_name": "Python 3 (ipykernel)",
   "language": "python",
   "name": "python3"
  },
  "language_info": {
   "codemirror_mode": {
    "name": "ipython",
    "version": 3
   },
   "file_extension": ".py",
   "mimetype": "text/x-python",
   "name": "python",
   "nbconvert_exporter": "python",
   "pygments_lexer": "ipython3",
   "version": "3.8.10"
  }
 },
 "nbformat": 4,
 "nbformat_minor": 5
}
